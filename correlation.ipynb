{
 "cells": [
  {
   "attachments": {},
   "cell_type": "markdown",
   "metadata": {},
   "source": [
    "## Covariance\n",
    "it's a statistical measure that quantifies the relationship betweeen two random variables.\n",
    "It provides information about how changes in one variable are associated with changes in another variable\n",
    "It measures the directional relationship between the return values on two variables.\n",
    "\n",
    "- It can take any value between -infinity to  +infinity\n",
    ">>- -ve represents a negative relationship (inverse), +ve represents the positive relationship\n",
    "- it's used for the linear relationship between variable\n",
    "- it gives the direction of the relationship between variable\n",
    "Covariance of zero indicats there's no clear dirctional relationship between the two variables.\n",
    "\n",
    "It's calculated by analyzing standard deviations from the expected return/ measuring the correlation between two random variables by the standard deviation of each variable.\n",
    "\n",
    "***it does not indicate the degree to which the two variables being measured move in relation to one another***\n",
    "\n",
    "**Formulas**<br>\n",
    "***population*** <br>\n",
    "![population covariance](cov1.png)\n",
    "\n",
    "\n",
    "***sample***<br>\n",
    "![sample covariance](cov2.png)\n",
    "\n",
    "x' and y' = mean of sample set\n",
    "n = total no of sample\n",
    "xi and yi = individual sample of set\n",
    "x and y = individual data point\n",
    "### Example\n",
    "![data](cov3.png)\n",
    "![sum](cov4.png)\n",
    "![covariance](cov5.png)\n",
    "\n",
    "### Applications of Covariance\n",
    "- finance - it's used to determine how different investments perform in relation to one another\n",
    "- modern portifolio theory\n",
    "\n",
    "\n",
    "## Correlation\n",
    "\n",
    "It shows whether and how strongly pairs of variable are related to each other\n",
    "\n",
    "\n",
    "- Corrrelation takes values between -1 and 1, values close to +1 represents strong positive correlation and values cloe to -1 represents strong negative correlation\n",
    "- negative values indicate the variables are indirectly related to each other\n",
    "- It gives the direction and strength of relationship between variables\n",
    "\n",
    "**Formula**<br>\n",
    "![correlation](cor.png)\n",
    "\n",
    "**Pearson correlation**<br>\n",
    "![correlation formula2](cor1.png)"
   ]
  },
  {
   "attachments": {},
   "cell_type": "markdown",
   "metadata": {},
   "source": [
    "### Example\n",
    "mpg = milage per gallon, hp = horsepower\n",
    "Let's view the relation between the two"
   ]
  },
  {
   "cell_type": "code",
   "execution_count": 3,
   "metadata": {},
   "outputs": [
    {
     "data": {
      "text/plain": [
       "PearsonRResult(statistic=-0.7761683718265864, pvalue=1.787835254121068e-07)"
      ]
     },
     "execution_count": 3,
     "metadata": {},
     "output_type": "execute_result"
    }
   ],
   "source": [
    "from scipy import stats\n",
    "\n",
    "mpg = [21.0, 21.0, 22.8, 21.4, 18.7, 18.1, 14.3, 24.4, 22.8,\n",
    "19.2, 17.8, 16.4, 17.3, 15.2, 10.4, 10.4, 14.7, 32.4, 30.4,\n",
    "33.9, 21.5, 15.5, 15.2, 13.3, 19.2, 27.3, 26.0, 30.4, 15.8,\n",
    "19.7, 15.0, 21.4]\n",
    "\n",
    "hp = [110, 110, 93, 110, 175, 105, 245, 62, 95, 123, 123, 180,\n",
    "180, 180, 205, 215, 230, 66, 52, 65, 97, 150, 150, 245,\n",
    "175, 66, 91, 113, 264, 175, 335, 109]\n",
    "\n",
    "stats.pearsonr(mpg, hp)"
   ]
  },
  {
   "attachments": {},
   "cell_type": "markdown",
   "metadata": {},
   "source": [
    "The first value shows the `correlation`  between horsepower and mileage\n",
    "The second value gives the `pvalue` <br>\n",
    "\n",
    "The correlation shows the two variables are highly negative correlated\n",
    "The pvalue tells us that there's a significant correlation between them"
   ]
  },
  {
   "cell_type": "code",
   "execution_count": 6,
   "metadata": {},
   "outputs": [
    {
     "data": {
      "image/png": "[encoded data removed]",
      "text/plain": [
       "<Figure size 640x480 with 1 Axes>"
      ]
     },
     "metadata": {},
     "output_type": "display_data"
    }
   ],
   "source": [
    "import matplotlib.pyplot as plt\n",
    "\n",
    "plt.scatter(mpg, hp)\n",
    "plt.xlabel(\"mileage per gallon\")\n",
    "plt.ylabel(\"horsepower\")\n",
    "plt.show()"
   ]
  },
  {
   "attachments": {},
   "cell_type": "markdown",
   "metadata": {},
   "source": [
    "From the plot we see there's an inverse relation between the two variable<br>\n",
    "As `mileage per gallon` increases in the x axis, the `horsepower` of the car decreases"
   ]
  },
  {
   "cell_type": "code",
   "execution_count": null,
   "metadata": {},
   "outputs": [],
   "source": []
  }
 ],
 "metadata": {
  "kernelspec": {
   "display_name": "Python 3",
   "language": "python",
   "name": "python3"
  },
  "language_info": {
   "codemirror_mode": {
    "name": "ipython",
    "version": 3
   },
   "file_extension": ".py",
   "mimetype": "text/x-python",
   "name": "python",
   "nbconvert_exporter": "python",
   "pygments_lexer": "ipython3",
   "version": "3.10.6"
  },
  "orig_nbformat": 4
 },
 "nbformat": 4,
 "nbformat_minor": 2
}
