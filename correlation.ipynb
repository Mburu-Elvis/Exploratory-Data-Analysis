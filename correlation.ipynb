{
 "cells": [
  {
   "attachments": {},
   "cell_type": "markdown",
   "metadata": {},
   "source": [
    "# Correlation\n",
    "\n",
    "It defines the similarity between two random variables.\n",
    "\n",
    "\n",
    "## Covariance\n",
    "it's a statistical measure that quantifies the relationship betweeen two random variables.\n",
    "It provides information about how changes in one variable are associated with changes in another variable"
   ]
  },
  {
   "cell_type": "code",
   "execution_count": null,
   "metadata": {},
   "outputs": [],
   "source": []
  }
 ],
 "metadata": {
  "language_info": {
   "name": "python"
  },
  "orig_nbformat": 4
 },
 "nbformat": 4,
 "nbformat_minor": 2
}
