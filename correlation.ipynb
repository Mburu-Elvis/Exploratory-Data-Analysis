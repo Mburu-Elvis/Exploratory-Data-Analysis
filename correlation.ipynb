{
 "cells": [
  {
   "attachments": {},
   "cell_type": "markdown",
   "metadata": {},
   "source": [
    "## Covariance\n",
    "it's a statistical measure that quantifies the relationship betweeen two random variables.\n",
    "It provides information about how changes in one variable are associated with changes in another variable\n",
    "It measures the directional relationship between the return values on two variables.\n",
    "\n",
    "- It can take any value between -infinity to  +infinity\n",
    ">>- -ve represents a negative relationship (inverse), +ve represents the positive relationship\n",
    "- it's used for the linear relationship between variable\n",
    "- it gives the direction of the relationship between variable\n",
    "Covariance of zero indicats there's no clear dirctional relationship between the two variables.\n",
    "\n",
    "It's calculated by analyzing standard deviations from the expected return/ measuring the correlation between two random variables by the standard deviation of each variable.\n",
    "\n",
    "***it does not indicate the degree to which the two variables being measured move in relation to one another***\n",
    "\n",
    "**Formulas**<br>\n",
    "***population*** <br>\n",
    "![population covariance](cov1.png)\n",
    "\n",
    "\n",
    "***sample***<br>\n",
    "![sample covariance](cov2.png)\n",
    "\n",
    "x' and y' = mean of sample set\n",
    "n = total no of sample\n",
    "xi and yi = individual sample of set\n",
    "x and y = individual data point\n",
    "### Example\n",
    "![data](cov3.png)\n",
    "![sum](cov4.png)\n",
    "![covariance](cov5.png)\n",
    "\n",
    "### Applications of Covariance\n",
    "- finance - it's used to determine how different investments perform in relation to one another\n",
    "- modern portifolio theory\n",
    "\n",
    "\n",
    "## Correlation\n",
    "\n",
    "It shows whether and how strongly pairs of variable are related to each other\n",
    "\n",
    "\n",
    "- Corrrelation takes values between -1 and 1, values close to +1 represents strong positive correlation and values cloe to -1 represents strong negative correlation\n",
    "- negative values indicate the variables are indirectly related to each other\n",
    "- It gives the direction and strength of relationship between variables\n",
    "\n",
    "**Formula**<br>\n",
    "![correlation](cor.png)"
   ]
  },
  {
   "cell_type": "code",
   "execution_count": null,
   "metadata": {},
   "outputs": [],
   "source": []
  }
 ],
 "metadata": {
  "language_info": {
   "name": "python"
  },
  "orig_nbformat": 4
 },
 "nbformat": 4,
 "nbformat_minor": 2
}
