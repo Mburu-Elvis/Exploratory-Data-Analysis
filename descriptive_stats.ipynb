{
 "cells": [
  {
   "attachments": {},
   "cell_type": "markdown",
   "metadata": {},
   "source": [
    "# Descriptive Statistics, Transformations"
   ]
  },
  {
   "attachments": {},
   "cell_type": "markdown",
   "metadata": {},
   "source": [
    "types of descriptive statistics: \n",
    "- measure of central tendency\n",
    "- measure of variability/ Dispersion\n",
    "\n",
    "## Measures of Central Tendency\n",
    "\n",
    "It represents the whole dataset by a single value. <br>\n",
    "It gives us the location of central points\n",
    "\n",
    "- Mean\n",
    "- Mode\n",
    "- Median\n",
    "\n",
    "### a. Mean\n",
    "\n",
    "It is the sum of observation divided by the total number of observations. <br>\n",
    "Also defined as average which is the sum divided by count.\n",
    "\n",
    "![mean formula](mean.png)\n",
    "\n",
    "where, n = number of items\n",
    "\n",
    "**Example**"
   ]
  },
  {
   "cell_type": "code",
   "execution_count": 10,
   "metadata": {},
   "outputs": [
    {
     "name": "stdout",
     "output_type": "stream",
     "text": [
      "Mean:  7.333333333333333\n"
     ]
    }
   ],
   "source": [
    "import numpy as np\n",
    "# sample data\n",
    "arr = [5, 6, 11]\n",
    "\n",
    "# mean\n",
    "mean = np.mean(arr)\n",
    "print(\"Mean: \", mean)"
   ]
  },
  {
   "attachments": {},
   "cell_type": "markdown",
   "metadata": {},
   "source": [
    "### b. Mode\n",
    "\n",
    "It is the value that has the highest frequecy in the given dataset. <br>\n",
    "The dataset does not have a mode if the frequency of all data points are the same. <br>\n",
    "\n",
    "**Example**"
   ]
  },
  {
   "cell_type": "code",
   "execution_count": 9,
   "metadata": {},
   "outputs": [
    {
     "name": "stdout",
     "output_type": "stream",
     "text": [
      "Mode:  ModeResult(mode=array([4]), count=array([4]))\n"
     ]
    }
   ],
   "source": [
    "from scipy import stats\n",
    "\n",
    "# sample Data\n",
    "arr = [1, 2, 2, 3, 3, 3, 4, 4, 4, 4]\n",
    "\n",
    "# mode\n",
    "mode = stats.mode(arr, keepdims=True)\n",
    "print(\"Mode: \", mode)"
   ]
  },
  {
   "attachments": {},
   "cell_type": "markdown",
   "metadata": {},
   "source": [
    "### c. Median\n",
    "\n",
    "It is the middle value of the dataset. <br>\n",
    "It splits the data into two halves, if the number of elemnts in the dataset is odd then the centre elements is median. <br>\n",
    "If even, then the median would be the average of two central elements\n",
    "\n",
    "![median formula](median.png)\n",
    "\n",
    "where, n = number of terms\n",
    "\n",
    "**Example**"
   ]
  },
  {
   "cell_type": "code",
   "execution_count": 8,
   "metadata": {},
   "outputs": [
    {
     "name": "stdout",
     "output_type": "stream",
     "text": [
      "Median:  5.0\n"
     ]
    }
   ],
   "source": [
    "import numpy as np\n",
    "\n",
    "# sample data\n",
    "arr = [1, 2, 3, 4, 5, 6, 7, 8, 9]\n",
    "\n",
    "# median\n",
    "median = np.median(arr)\n",
    "\n",
    "print(\"Median: \", median)"
   ]
  },
  {
   "attachments": {},
   "cell_type": "markdown",
   "metadata": {},
   "source": [
    "## Measures of Dispersion\n",
    "\n",
    "They depict the spread of data"
   ]
  },
  {
   "attachments": {},
   "cell_type": "markdown",
   "metadata": {},
   "source": [
    "- <strong>Range :</strong>The difference between the highest and lowest values in the dataset\n",
    "- <strong>Variance :</strong>The average of the squared differences from the mean\n",
    "- <strong>Standard Deviation :</strong> Shows how your data is spread around the mean \n",
    ">- it's the square-root of variance"
   ]
  },
  {
   "attachments": {},
   "cell_type": "markdown",
   "metadata": {},
   "source": [
    "### 1. Range\n",
    "\n",
    "Describe the difference between the largest and smallest data points in the dataset.\n",
    "The bigger the range the wider the spread\n",
    "\n",
    ">> <code>Range = Largest data value - smallest data value</code>\n",
    "\n",
    "**Example**"
   ]
  },
  {
   "cell_type": "code",
   "execution_count": 5,
   "metadata": {},
   "outputs": [
    {
     "name": "stdout",
     "output_type": "stream",
     "text": [
      "Maximum data value: 9, Minimum data Value: 1, Range: 8\n"
     ]
    }
   ],
   "source": [
    "import numpy as np\n",
    "\n",
    "# sample data\n",
    "arr = [1, 2, 3, 4, 5, 6, 7, 8, 9, 1, 2]\n",
    "\n",
    "maximum = np.max(arr)\n",
    "minimum = np.min(arr)\n",
    "\n",
    "range = maximum - minimum\n",
    "print(\"Maximum data value: {}, Minimum data Value: {}, Range: {}\".format(maximum, minimum, range))"
   ]
  },
  {
   "attachments": {},
   "cell_type": "markdown",
   "metadata": {},
   "source": [
    "### 2. Variance\n",
    "\n",
    "It's defined as an average squared deviation from the mean.<br>\n",
    "Calculates by finding the difference between every data point and the mean and then squaring them, then dividing them by the number of data values\n",
    "\n",
    "![variance formula](variance.png)\n",
    "\n",
    "Where, N = number of elements<br>\n",
    "u = mean<br>\n",
    "x = a single data value\n",
    "\n",
    "**Example**"
   ]
  },
  {
   "cell_type": "code",
   "execution_count": 7,
   "metadata": {},
   "outputs": [
    {
     "name": "stdout",
     "output_type": "stream",
     "text": [
      "Variance: 7.5\n"
     ]
    }
   ],
   "source": [
    "import statistics\n",
    "\n",
    "# sample data\n",
    "arr = [1, 2, 3, 4, 5, 6, 7, 8, 9]\n",
    "\n",
    "# variance\n",
    "var = statistics.variance(arr)\n",
    "print(\"Variance: \", var)"
   ]
  },
  {
   "attachments": {},
   "cell_type": "markdown",
   "metadata": {},
   "source": [
    "## 3. Standard Deviation\n",
    "\n",
    "It's a measure of how dispersed the data is in relation to the mean.\n",
    "\n",
    "- low std deviation means the data are scattered around the mean\n",
    "- hight std deviation indicates the data are more spread out\n",
    "\n",
    "the standard deviation value is always positive <br>\n",
    "It's also the square-root of `variance` of the data set\n",
    "\n",
    "**General formula**\n",
    "\n",
    "![standard deviation formula](std_dev1.png)\n",
    "\n",
    "Where, N = number of data values/points<br>\n",
    "u = mean<br>\n",
    "rho = represents standard deviation\n",
    "\n",
    "**Example**"
   ]
  },
  {
   "cell_type": "code",
   "execution_count": 11,
   "metadata": {},
   "outputs": [
    {
     "name": "stdout",
     "output_type": "stream",
     "text": [
      "Standard Deviation:  2.7386127875258306\n"
     ]
    }
   ],
   "source": [
    "import statistics\n",
    "\n",
    "# sample data\n",
    "arr = [1, 2, 3, 4, 5, 6, 7, 8, 9]\n",
    "\n",
    "std_dev = statistics.stdev(arr)\n",
    "print(\"Standard Deviation: \", std_dev)"
   ]
  },
  {
   "attachments": {},
   "cell_type": "markdown",
   "metadata": {},
   "source": [
    "**Standard Deviation Formulas**\n",
    "- Standard Deviation of Sample Data\n",
    "- Standard Deviation of Population Data\n",
    "\n",
    "The formula for the standard deviation of population data is,\n",
    "\n",
    "![standard deviation](std_dev.png)\n",
    "\n",
    "Where,\n",
    "- s = population standard deviation\n",
    "- x<sub>i</sub> = i<sup>th</sup> observation\n",
    "- x ***bar*** = sample mean\n",
    "- N = number of observations"
   ]
  },
  {
   "attachments": {},
   "cell_type": "markdown",
   "metadata": {},
   "source": [
    "## Quartiles\n",
    "\n",
    "Quartiles are the set of values that divide the data points into four identical values/parts.<br>\n",
    "In statistics they are used to divide the data-set into four quarters\n",
    "\n",
    "There are three quartiles:- \n",
    "\n",
    "- First / Lower Quartile\n",
    "- Second Quartile / Median\n",
    "- Third / Upper Quartile\n",
    "\n",
    "The steps to obtain the quartile formula are:\n",
    "\n",
    "- <strong>Step 1 :</strong>Sort the given data in ascending order\n",
    "- <strong>Step 2 :</strong>Find respective quartile values / terms as per need from the formula below\n",
    "\n",
    ">- first quartile = ({n + 1} / {4})<sup>th</sup> term\n",
    ">- second quartile = ({n + 1} / {2})<sup>th</sup> term\n",
    ">- third quartile - ({3 (n + 1)} / {4})<sup>th</sup> term\n",
    "\n",
    "where ***n*** is the total count of numbers in a given data"
   ]
  },
  {
   "attachments": {},
   "cell_type": "markdown",
   "metadata": {},
   "source": [
    "## Transformation\n",
    "\n",
    "rescaling the distribution of numeric values is necessary for the algorithm to converge faster or to provide a more exact solution.\n",
    "Rescaling mutates the range of the values of the features and can affect variance.\n",
    "You can perform rescaling in two ways:-\n",
    "\n",
    "- statistical `standardization` (z-score normalization)\n",
    ">- Standardization typically means rescaling data to have a mean of 0 and a standard deviation of 1(unit variance)\n",
    "- min-max transformation / `normalization`\n",
    ">- Normalization typically means rescaling the values into a range of [0, 1]"
   ]
  },
  {
   "cell_type": "code",
   "execution_count": null,
   "metadata": {},
   "outputs": [],
   "source": []
  }
 ],
 "metadata": {
  "kernelspec": {
   "display_name": "Python 3",
   "language": "python",
   "name": "python3"
  },
  "language_info": {
   "codemirror_mode": {
    "name": "ipython",
    "version": 3
   },
   "file_extension": ".py",
   "mimetype": "text/x-python",
   "name": "python",
   "nbconvert_exporter": "python",
   "pygments_lexer": "ipython3",
   "version": "3.10.6"
  },
  "orig_nbformat": 4
 },
 "nbformat": 4,
 "nbformat_minor": 2
}
